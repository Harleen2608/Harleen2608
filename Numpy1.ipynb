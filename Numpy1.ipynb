{
  "nbformat": 4,
  "nbformat_minor": 0,
  "metadata": {
    "colab": {
      "provenance": [],
      "authorship_tag": "ABX9TyMX+BBC47PSXaGE23obfPim",
      "include_colab_link": true
    },
    "kernelspec": {
      "name": "python3",
      "display_name": "Python 3"
    },
    "language_info": {
      "name": "python"
    }
  },
  "cells": [
    {
      "cell_type": "markdown",
      "metadata": {
        "id": "view-in-github",
        "colab_type": "text"
      },
      "source": [
        "<a href=\"https://colab.research.google.com/github/Harleen2608/Harleen2608/blob/main/Numpy1.ipynb\" target=\"_parent\"><img src=\"https://colab.research.google.com/assets/colab-badge.svg\" alt=\"Open In Colab\"/></a>"
      ]
    },
    {
      "cell_type": "code",
      "source": [
        "NumPy is a Python library.\n",
        "\n",
        "NumPy is used for working with arrays.\n",
        "\n",
        "NumPy is short for \"Numerical Python\"."
      ],
      "metadata": {
        "id": "MzPt00BWzVMN"
      },
      "execution_count": null,
      "outputs": []
    },
    {
      "cell_type": "code",
      "execution_count": null,
      "metadata": {
        "id": "XJzX5Su80j39",
        "colab": {
          "base_uri": "https://localhost:8080/"
        },
        "outputId": "aff7e0bc-a3df-4f93-ac0a-b021996589c6"
      },
      "outputs": [
        {
          "output_type": "stream",
          "name": "stdout",
          "text": [
            "[1 2 3 4 5 6 7 8 9 0]\n",
            "<class 'numpy.ndarray'>\n"
          ]
        }
      ],
      "source": [
        "#creaing an array\n",
        "import numpy as np\n",
        "arr=np.array([1,2,3,4,5,6,7,8,9,0])\n",
        "print(arr)\n",
        "print(type(arr))\n"
      ]
    },
    {
      "cell_type": "code",
      "source": [
        "#ckecking for version\n",
        "print(np.__version__)"
      ],
      "metadata": {
        "colab": {
          "base_uri": "https://localhost:8080/"
        },
        "id": "Uwxaw7rU2qh3",
        "outputId": "65ec4117-d657-4883-bd5a-3e7c06c1fe01"
      },
      "execution_count": null,
      "outputs": [
        {
          "output_type": "stream",
          "name": "stdout",
          "text": [
            "1.25.2\n"
          ]
        }
      ]
    },
    {
      "cell_type": "code",
      "source": [
        "Dimension in array"
      ],
      "metadata": {
        "id": "ZCZLTKAU-HCi"
      },
      "execution_count": null,
      "outputs": []
    },
    {
      "cell_type": "code",
      "source": [
        "# 0-d array\n",
        "zero=np.array(26)\n",
        "zero"
      ],
      "metadata": {
        "colab": {
          "base_uri": "https://localhost:8080/"
        },
        "id": "sRwb-2Sy7Exz",
        "outputId": "f8f0b149-07f8-4714-e289-2a57e0d798e5"
      },
      "execution_count": null,
      "outputs": [
        {
          "output_type": "execute_result",
          "data": {
            "text/plain": [
              "array(26)"
            ]
          },
          "metadata": {},
          "execution_count": 5
        }
      ]
    },
    {
      "cell_type": "code",
      "source": [
        "#1-d array\n",
        "one=np.array([1,2,3,4])\n",
        "one"
      ],
      "metadata": {
        "colab": {
          "base_uri": "https://localhost:8080/"
        },
        "id": "IoYH7n2j7R7G",
        "outputId": "69a2ebbd-3873-4dc1-c9cc-ea8f0eb27e12"
      },
      "execution_count": null,
      "outputs": [
        {
          "output_type": "execute_result",
          "data": {
            "text/plain": [
              "array([1, 2, 3, 4])"
            ]
          },
          "metadata": {},
          "execution_count": 7
        }
      ]
    },
    {
      "cell_type": "code",
      "source": [
        "#2-d array\n",
        "two=np.array([[1,2,7],[3,4,5]])\n",
        "two\n"
      ],
      "metadata": {
        "colab": {
          "base_uri": "https://localhost:8080/"
        },
        "id": "0DjNyPms7XjX",
        "outputId": "0aea2a96-df28-4419-d315-59bfc6d41f0a"
      },
      "execution_count": null,
      "outputs": [
        {
          "output_type": "execute_result",
          "data": {
            "text/plain": [
              "array([[1, 2, 7],\n",
              "       [3, 4, 5]])"
            ]
          },
          "metadata": {},
          "execution_count": 19
        }
      ]
    },
    {
      "cell_type": "code",
      "source": [
        "#3-d array\n",
        "three=np.array([[[1,2,3],[2,3,4]],[[3,6,7],[7,8,9]]])\n",
        "three"
      ],
      "metadata": {
        "colab": {
          "base_uri": "https://localhost:8080/"
        },
        "id": "DbGeoL7Q7kYZ",
        "outputId": "dc805a64-f14b-4995-b086-b5b522975c98"
      },
      "execution_count": null,
      "outputs": [
        {
          "output_type": "execute_result",
          "data": {
            "text/plain": [
              "array([[[1, 2, 3],\n",
              "        [2, 3, 4]],\n",
              "\n",
              "       [[3, 6, 7],\n",
              "        [7, 8, 9]]])"
            ]
          },
          "metadata": {},
          "execution_count": 9
        }
      ]
    },
    {
      "cell_type": "code",
      "source": [
        "#CKECKING FOR DIMENSION OF ARRYS"
      ],
      "metadata": {
        "id": "zLBd2V2w-O2v"
      },
      "execution_count": null,
      "outputs": []
    },
    {
      "cell_type": "code",
      "source": [
        "print(one.ndim)\n",
        "print(zero.ndim)\n",
        "print(three.ndim)\n",
        "print(two.ndim)\n"
      ],
      "metadata": {
        "colab": {
          "base_uri": "https://localhost:8080/"
        },
        "id": "NDNh8qyS8BRd",
        "outputId": "63de993a-9122-402a-f7f3-e2028ef3b655"
      },
      "execution_count": null,
      "outputs": [
        {
          "output_type": "stream",
          "name": "stdout",
          "text": [
            "1\n",
            "0\n",
            "3\n",
            "2\n"
          ]
        }
      ]
    },
    {
      "cell_type": "code",
      "source": [
        "#HIGHLY ORDER DIMENSION USING  ndmin ARGUMENT"
      ],
      "metadata": {
        "id": "4Vjl4dR1-W1S"
      },
      "execution_count": null,
      "outputs": []
    },
    {
      "cell_type": "code",
      "source": [
        "arr=np.array([1,2],ndmin=6)\n",
        "arr"
      ],
      "metadata": {
        "colab": {
          "base_uri": "https://localhost:8080/"
        },
        "id": "ms0YhT8Y8V57",
        "outputId": "55e97ee5-9bd6-4cb0-9619-8ab6363be94d"
      },
      "execution_count": null,
      "outputs": [
        {
          "output_type": "execute_result",
          "data": {
            "text/plain": [
              "array([[[[[[1, 2]]]]]])"
            ]
          },
          "metadata": {},
          "execution_count": 12
        }
      ]
    },
    {
      "cell_type": "code",
      "source": [
        "#ARRAY ACCESSING VIA INDEXING"
      ],
      "metadata": {
        "id": "wpWbmFvV-k7-"
      },
      "execution_count": null,
      "outputs": []
    },
    {
      "cell_type": "code",
      "source": [
        "print(one[3])"
      ],
      "metadata": {
        "colab": {
          "base_uri": "https://localhost:8080/"
        },
        "id": "howSagFF8gVO",
        "outputId": "b8b0d43d-fc43-4807-c763-47dea6e48105"
      },
      "execution_count": null,
      "outputs": [
        {
          "output_type": "stream",
          "name": "stdout",
          "text": [
            "4\n"
          ]
        }
      ]
    },
    {
      "cell_type": "code",
      "source": [
        "print(two[1,2])"
      ],
      "metadata": {
        "colab": {
          "base_uri": "https://localhost:8080/"
        },
        "id": "jpOZ8C5l8vjk",
        "outputId": "f584af76-9f26-4c8b-d5da-71ab1995cef1"
      },
      "execution_count": null,
      "outputs": [
        {
          "output_type": "stream",
          "name": "stdout",
          "text": [
            "5\n"
          ]
        }
      ]
    },
    {
      "cell_type": "code",
      "source": [
        "print(three[1,0,1])"
      ],
      "metadata": {
        "colab": {
          "base_uri": "https://localhost:8080/"
        },
        "id": "jxdilw2881Dc",
        "outputId": "eeffa772-825f-40fb-bb34-4731c21eaf16"
      },
      "execution_count": null,
      "outputs": [
        {
          "output_type": "stream",
          "name": "stdout",
          "text": [
            "6\n"
          ]
        }
      ]
    },
    {
      "cell_type": "code",
      "source": [
        "print(one[-1])"
      ],
      "metadata": {
        "colab": {
          "base_uri": "https://localhost:8080/"
        },
        "id": "WgVDJ8vg9Syh",
        "outputId": "deb7ff65-579c-4990-f9fa-695ecb548bed"
      },
      "execution_count": null,
      "outputs": [
        {
          "output_type": "stream",
          "name": "stdout",
          "text": [
            "4\n"
          ]
        }
      ]
    },
    {
      "cell_type": "code",
      "source": [
        "print(two[-2,-1])"
      ],
      "metadata": {
        "colab": {
          "base_uri": "https://localhost:8080/"
        },
        "id": "EWyS5FkB9ZjD",
        "outputId": "3141a3f4-88e7-4a68-a6df-19d942b0be2e"
      },
      "execution_count": null,
      "outputs": [
        {
          "output_type": "stream",
          "name": "stdout",
          "text": [
            "7\n"
          ]
        }
      ]
    },
    {
      "cell_type": "code",
      "source": [
        "print(three[-1,0,-1])"
      ],
      "metadata": {
        "colab": {
          "base_uri": "https://localhost:8080/"
        },
        "id": "c9QLrRh_9qab",
        "outputId": "b52ee98c-b1e3-4801-9ed3-5de6485e0f2d"
      },
      "execution_count": null,
      "outputs": [
        {
          "output_type": "stream",
          "name": "stdout",
          "text": [
            "7\n"
          ]
        }
      ]
    },
    {
      "cell_type": "code",
      "source": [
        "one[1:2]"
      ],
      "metadata": {
        "id": "evs_cj169w5F"
      },
      "execution_count": null,
      "outputs": []
    }
  ]
}